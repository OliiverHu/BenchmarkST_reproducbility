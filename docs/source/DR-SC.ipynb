{
 "cells": [
  {
   "cell_type": "code",
   "execution_count": null,
   "id": "12307edc-b067-4011-b2cf-291e260d6ee3",
   "metadata": {},
   "outputs": [],
   "source": [
    "library(\"DR.SC\")\n",
    "library(Seurat)\n",
    "library(ggplot2)\n",
    "library(tictoc)"
   ]
  },
  {
   "cell_type": "markdown",
   "id": "9b2cf777-184c-4d41-8659-7eebdcf002f1",
   "metadata": {},
   "source": [
    "## Data Loading: DLPFC"
   ]
  },
  {
   "cell_type": "code",
   "execution_count": null,
   "id": "19da42d6-d066-4edf-9f70-9dc4e23c98e2",
   "metadata": {},
   "outputs": [],
   "source": [
    "# Loading the cell-gene expression matrix and the obs dataset for each slice.\n",
    "dir.input <- file.path('/data/maiziezhou_lab/Datasets/ST_datasets/DLPFC12/', sample.name)\n",
    "dir.output <- file.path('/data/maiziezhou_lab/yikang/ST_R/DRSC/output/', sample.name, '/')\n",
    "meta.input <- file.path('/data/maiziezhou_lab/Datasets/ST_datasets/DLPFC12/', sample.name, 'gt')\n",
    "layer.input <- file.path('/data/maiziezhou_lab/Datasets/ST_datasets/DLPFC12/', sample.name, 'gt/layered')\n",
    "#meta.input <- file.path('/data/maiziezhou_lab/yikang/ST_R/SEDR_analyses/data/DLPFC/', sample.name)\n",
    "if(!dir.exists(file.path(dir.output))){\n",
    "    dir.create(file.path(dir.output), recursive = TRUE)\n",
    "}\n",
    "\n",
    "filename <- paste0(sample.name, \"_filtered_feature_bc_matrix.h5\")\n",
    "sp_data <- Load10X_Spatial(dir.input, filename = filename)\n",
    "\n",
    "#df_meta <- read.table(file.path(meta.input, 'metadata.tsv'))\n",
    "df_meta <- read.table(file.path(meta.input, 'tissue_positions_list_GTs.txt'))\n",
    "\n",
    "\n",
    "original_row_names <- row.names(df_meta) \n",
    "split_data <- strsplit(df_meta$V1, split = \",\")\n",
    "df_meta <- do.call(rbind, lapply(split_data, function(x) {\n",
    "  data.frame(V1=x[1], V2=x[2], V3=x[3], V4=x[4], V5=x[5], V6=x[6], V7=x[7])\n",
    "}))\n",
    "row.names(df_meta) <- df_meta$V1\n",
    "df_meta$V3 <- as.numeric(df_meta$V3)\n",
    "df_meta$V4 <- as.numeric(df_meta$V4)\n",
    "#df_meta_matched <- df_meta[df_meta$V1 %in% row.names(sp_data@meta.data),]\n",
    "# Set the row names of df_meta_matched to be V1\n",
    "# Identify the cells that are in both sp_data and df_meta\n",
    "common_cells <- colnames(sp_data[[\"Spatial\"]]) %in% rownames(df_meta)\n",
    "\n",
    "# Subset sp_data to keep only these cells\n",
    "sp_data <- sp_data[, common_cells]\n",
    "\n",
    "# Initialize an empty dataframe to hold the final results\n",
    "layer.data <- data.frame()\n",
    "\n",
    "if(as.numeric(cluster.number) == 5) {\n",
    "    for(i in 3:6){\n",
    "        file.name <- paste0(sample.name, \"_L\", i, \"_barcodes.txt\")\n",
    "        file.path <- file.path(layer.input, file.name)\n",
    "        \n",
    "        data.temp <- read.table(file.path, header = FALSE, stringsAsFactors = FALSE) # assuming the file has no header\n",
    "        data.temp <- data.frame(barcode = data.temp[,1], layer = paste0(\"layer\", i), row.names = data.temp[,1])\n",
    "        \n",
    "        # Append to the final dataframe\n",
    "        layer.data <- rbind(layer.data, data.temp)\n",
    "        }\n",
    "} else {\n",
    "    for(i in 1:6){\n",
    "        file.name <- paste0(sample.name, \"_L\", i, \"_barcodes.txt\")\n",
    "        file.path <- file.path(layer.input, file.name)\n",
    "        \n",
    "        data.temp <- read.table(file.path, header = FALSE, stringsAsFactors = FALSE) # assuming the file has no header\n",
    "        data.temp <- data.frame(barcode = data.temp[,1], layer = paste0(\"layer\", i), row.names = data.temp[,1])\n",
    "        \n",
    "        # Append to the final dataframe\n",
    "        layer.data <- rbind(layer.data, data.temp)\n",
    "    }\n",
    "}\n",
    "\n",
    "# For the WM file\n",
    "file.name <- paste0(sample.name, \"_WM_barcodes.txt\")\n",
    "file.path <- file.path(layer.input, file.name)\n",
    "\n",
    "data.temp <- read.table(file.path, header = FALSE, stringsAsFactors = FALSE) # assuming the file has no header\n",
    "data.temp <- data.frame(barcode = data.temp[,1], layer = \"WM\", row.names = data.temp[,1])\n",
    "\n",
    "# Append to the final dataframe\n",
    "layer.data <- rbind(layer.data, data.temp)\n",
    "\n",
    "\n",
    "\n",
    "sp_data <- AddMetaData(sp_data, \n",
    "                    metadata = df_meta['V3'],\n",
    "                    col.name = 'row')\n",
    "sp_data <- AddMetaData(sp_data, \n",
    "                    metadata = df_meta['V4'],\n",
    "                    col.name = 'col')\n",
    "sp_data <- AddMetaData(sp_data, \n",
    "                    metadata = layer.data['layer'],\n",
    "                    col.name = 'annotation')\n",
    "\n",
    "head(sp_data)"
   ]
  },
  {
   "cell_type": "markdown",
   "id": "6672aafa-7156-42a5-a0e1-ccdbe697b6c4",
   "metadata": {},
   "source": [
    "## Data Loading: MHypothalamus Bregma"
   ]
  },
  {
   "cell_type": "code",
   "execution_count": null,
   "id": "c76dca0d-a996-4dbd-8753-53b5f0e7de66",
   "metadata": {},
   "outputs": [],
   "source": [
    "dir.input <- file.path('/data/maiziezhou_lab/Datasets/ST_datasets/', sample.name)\n",
    "\n",
    "if(!dir.exists(file.path(dir.output))){\n",
    "dir.create(file.path(dir.output), recursive = TRUE)\n",
    "}\n",
    "\n",
    "\n",
    "filename = paste0(dir.input, '/MERFISH_Animal1_cnts.xlsx')\n",
    "cnts <- as.data.frame(read_excel(filename, sheet = sheet.name))\n",
    "row.names(cnts) <- cnts[,\"...1\"]\n",
    "cnts <- cnts[ -c(1) ]\n",
    "#cnts <- list(cnts)\n",
    "\n",
    "infoname = paste0(dir.input, '/MERFISH_Animal1_info.xlsx')\n",
    "xys <- as.data.frame(read_excel(infoname, sheet = sheet.name))\n",
    "row.names(xys) <- xys[,\"...1\"]\n",
    "xys <- xys[-c(1)]\n",
    "\n",
    "sp_data <- CreateSeuratObject(counts = cnts, project = \"43F\", min.cells = 3, names.delim = \"-\", names.field = 2)\n",
    "\n",
    "sp_data <- AddMetaData(sp_data, \n",
    "                   metadata = xys$x,\n",
    "                   col.name = 'row')\n",
    "sp_data <- AddMetaData(sp_data, \n",
    "                   metadata = xys$y,\n",
    "                   col.name = 'col')\n",
    "sp_data <- AddMetaData(sp_data, \n",
    "                   metadata = xys$z,\n",
    "                   col.name = 'layer_guess_reordered')\n",
    "\n",
    "sp_data$orig.ident <- 1\n",
    "Idents(sp_data) <- row.names(sp_data@meta.data)"
   ]
  },
  {
   "cell_type": "markdown",
   "id": "62650228-0173-4de3-ab23-127f1247d262",
   "metadata": {},
   "source": [
    "## Run the DR.SC"
   ]
  },
  {
   "cell_type": "code",
   "execution_count": null,
   "id": "88d5f26e-cbaf-4716-90fa-5270cc80dc43",
   "metadata": {},
   "outputs": [],
   "source": [
    "sp_data <- NormalizeData(sp_data, verbose = F)\n",
    "# choose 500 highly variable features\n",
    "seu <- FindVariableFeatures(sp_data, nfeatures = 500, verbose = F)\n",
    "### Given K\n",
    "\n",
    "seu <- DR.SC(seu, K=as.numeric(cluster.number), platform = 'Visium', verbose=F)"
   ]
  },
  {
   "cell_type": "markdown",
   "id": "b6972daf-1c3c-4d14-9e9a-dea517b98f65",
   "metadata": {},
   "source": [
    "## Calculating the ARI"
   ]
  },
  {
   "cell_type": "code",
   "execution_count": null,
   "id": "9806266f-4c12-4b14-a1b7-5dc9bd33a5c1",
   "metadata": {},
   "outputs": [],
   "source": [
    "## SAVE the files\n",
    "filename <- paste0(sample.name, \".csv\")\n",
    "data_to_write_out <- as.data.frame(as.matrix(seu@meta.data))\n",
    "write.table(data_to_write_out, file = file.path(dir.output, filename), sep = \"\\t\", qmethod = \"double\", col.names=NA)\n",
    "\n",
    "## Calculate the ARI\n",
    "ari_drsc <- mclust::adjustedRandIndex(seu$spatial.drsc.cluster, seu$annotation)"
   ]
  }
 ],
 "metadata": {
  "kernelspec": {
   "display_name": "R",
   "language": "R",
   "name": "ir"
  },
  "language_info": {
   "codemirror_mode": "r",
   "file_extension": ".r",
   "mimetype": "text/x-r-source",
   "name": "R",
   "pygments_lexer": "r",
   "version": "4.0.5"
  }
 },
 "nbformat": 4,
 "nbformat_minor": 5
}
