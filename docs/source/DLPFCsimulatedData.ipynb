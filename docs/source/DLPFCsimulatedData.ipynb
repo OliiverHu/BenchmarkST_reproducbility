{
 "cells": [
  {
   "cell_type": "markdown",
   "metadata": {},
   "source": [
    "# Data simulation"
   ]
  },
  {
   "cell_type": "markdown",
   "metadata": {},
   "source": [
    "\n",
    "The following code was modified based on the simulation method described in the paper:\n",
    "\n",
    "PASTE: Ron Zeira, Max Land, Alexander Strzalkowski, and Benjamin J. Raphael. \"Alignment and integration of spatial transcriptomics data\". Nature Methods (2022). https://doi.org/10.1038/s41592-022-01459-6"
   ]
  },
  {
   "cell_type": "code",
   "execution_count": 54,
   "metadata": {},
   "outputs": [
    {
     "name": "stderr",
     "output_type": "stream",
     "text": [
      "/tmp/ipykernel_230457/3288172430.py:17: MatplotlibDeprecationWarning: The seaborn styles shipped by Matplotlib are deprecated since 3.6, as they no longer correspond to the styles shipped by seaborn. However, they will remain available as 'seaborn-v0_8-<style>'. Alternatively, directly use the seaborn API instead.\n",
      "  style.use('seaborn-dark')\n"
     ]
    }
   ],
   "source": [
    "import math\n",
    "import random\n",
    "import pandas as pd\n",
    "import numpy as np\n",
    "import seaborn as sns\n",
    "import matplotlib.pyplot as plt\n",
    "from matplotlib import style\n",
    "import matplotlib as mpl\n",
    "import scanpy as sc\n",
    "import anndata\n",
    "from sklearn.decomposition import NMF\n",
    "import scipy\n",
    "import os\n",
    "import os.path as osp\n",
    "mpl.rcParams['pdf.fonttype'] = 42 # for pdf to be editable \n",
    "\n",
    "style.use('seaborn-dark')\n",
    "mpl.rc('xtick', labelsize=14) \n",
    "mpl.rc('ytick', labelsize=14)"
   ]
  },
  {
   "attachments": {},
   "cell_type": "markdown",
   "metadata": {},
   "source": [
    "## Simulate Spatial Noise"
   ]
  },
  {
   "attachments": {},
   "cell_type": "markdown",
   "metadata": {},
   "source": [
    "# Define Simulation functions"
   ]
  },
  {
   "attachments": {},
   "cell_type": "markdown",
   "metadata": {},
   "source": [
    "Generate grid points \n",
    "\n",
    "Takes a DLPFC slice, rotates by angle. Next, we map all new coordinates to closest grid points.\n",
    "\n",
    "This removes some points as some points move out from the grid or two points who share the same closest grid points will map to same coordinate."
   ]
  },
  {
   "cell_type": "code",
   "execution_count": 55,
   "metadata": {},
   "outputs": [],
   "source": [
    "def rotate_spots(grid,spots,theta=0,translation=0,center_correction=0,figsize=(5,5),plot=True):\n",
    "    grid = grid.copy() + center_correction\n",
    "    spots = spots.copy() + center_correction\n",
    "    print(f\"The number of the original spots {len(spots):.2f}\")\n",
    "    R = np.array([[np.cos(theta),-np.sin(theta)],[np.sin(theta),np.cos(theta)]])\n",
    "    rotated_spots = np.array([R.dot(spots[i]) for i in range(len(spots))])\n",
    "    rotated_spots += translation\n",
    "\n",
    "    new_spots = grid[np.argmin(scipy.spatial.distance.cdist(rotated_spots,grid),axis=1)]\n",
    "    #print(len(new_spots))\n",
    "\n",
    "    grid -= center_correction\n",
    "    spots -= center_correction\n",
    "    rotated_spots -= center_correction\n",
    "    new_spots -= center_correction\n",
    "\n",
    "    seen = {}\n",
    "    mapping = []\n",
    "    for i in range(len(new_spots)):\n",
    "        if tuple(new_spots[i]) in seen: continue\n",
    "        seen[tuple(new_spots[i])] = 1\n",
    "        mapping.append(i)\n",
    "    print(f\"The number of new spots {len(mapping):.2f}\")\n",
    "    if plot:\n",
    "        fig = plt.figure(figsize=figsize) #s=100\n",
    "        sns.scatterplot(x = grid[:,0],y = grid[:,1],linewidth=0,s=50, marker=\".\",alpha=0.2,color='blue')\n",
    "        sns.scatterplot(x = rotated_spots[:,0],y = rotated_spots[:,1],linewidth=0,s=50, marker=\".\",color='red')\n",
    "        sns.scatterplot(x = new_spots[:,0],y = new_spots[:,1],linewidth=0,s=50, marker=\".\",color='green')\n",
    "        # plt.show()\n",
    "\n",
    "    return new_spots,mapping\n",
    "\n",
    "\n",
    "#Generate points that are aligned in alternating rows in grid for DLPFC data\n",
    "def generate_offset_grid(rows, cols, spacing, offset, x_range, y_range):\n",
    "    grid = []\n",
    "    for row in range(rows):\n",
    "        for col in range(cols):\n",
    "            x = x_range[0] + col * spacing*2+ (row % 2) * spacing\n",
    "            y = y_range[0] +row * offset\n",
    "            grid.append([x, y])\n",
    "    return grid\n",
    "\n",
    "def euclidean_distance(point1, point2):\n",
    "    x1, y1 = point1\n",
    "    x2, y2 = point2\n",
    "    return math.sqrt((x2 - x1)**2 + (y2 - y1)**2)\n",
    "\n",
    "def minimal_internal_space(points):\n",
    "    min_distance = float('inf')  # Initialize with a large value\n",
    "    n = len(points)\n",
    "\n",
    "    for i in range(n):\n",
    "        for j in range(i + 1, n):\n",
    "            distance = euclidean_distance(points[i], points[j])\n",
    "            min_distance = min(min_distance, distance)\n",
    "\n",
    "    return min_distance\n",
    "\n",
    "def simulate_spatial(adata, rotation_angle):\n",
    "    adata_sim = adata.copy()\n",
    "    min_space = minimal_internal_space(adata.obsm['spatial'])\n",
    "    print(f\"The minimal internal space between any two adjacent points is {min_space:.2f}\")\n",
    "\n",
    "    # generate grid\n",
    "    x_coordinates = adata.obsm['spatial'][:, 0]  # Assuming x is in the first column\n",
    "    y_coordinates = adata.obsm['spatial'][:, 1]  # Assuming y is in the second column\n",
    "    min_x = np.min(x_coordinates)\n",
    "    min_y = np.min(y_coordinates)\n",
    "    max_x = np.max(x_coordinates)\n",
    "    max_y = np.max(y_coordinates)   \n",
    "    # print(min_x)\n",
    "    # print(max_x)\n",
    "    # print(min_y)\n",
    "    # print(max_y)\n",
    "    x_range = [min_x, max_x]\n",
    "    y_range = [min_y, max_y]\n",
    "    spacing = min_space/2 # this is the half of the distance between any two adjacent grid points\n",
    "    offset = min_space*math.sqrt(3)/2 # this is the y coordinate difference between any two verticallly adjacent points\n",
    "    rows = round((y_range[1]-y_range[0])/offset)+1 \n",
    "    cols = round((x_range[1]-x_range[0])/(spacing*2))+1  \n",
    "    grid = generate_offset_grid(rows, cols, spacing, offset, x_range, y_range)\n",
    "    layer_grid = np.array(grid)\n",
    "    #print(adata_sim.obsm['spatial'])\n",
    "    #print(layer_grid)\n",
    "\n",
    "    new_spots, mappings = rotate_spots(layer_grid, adata.obsm['spatial'], center_correction=0, theta= rotation_angle, plot=False)\n",
    "    adata_sim.obsm['spatial'] = new_spots\n",
    "\n",
    "    return adata_sim[mappings, :], mappings"
   ]
  },
  {
   "attachments": {},
   "cell_type": "markdown",
   "metadata": {},
   "source": [
    "## Simulate Gene Expression"
   ]
  },
  {
   "cell_type": "code",
   "execution_count": 56,
   "metadata": {},
   "outputs": [],
   "source": [
    "def simulate_gene_exp(adata, pc = 0.25, factor = 1):\n",
    "    \"\"\"\n",
    "    Adds pertubations to gene expression data. The rows are simulated according to a Multinomial distribution, \n",
    "    with the total counts per spot drawn from a Negative Binomial Distribution.\n",
    "    param: pc- Pseudocount to be added to dataframe\n",
    "    param: factor - amount by which we scale the variance (to increase noise)\n",
    "    \"\"\"\n",
    "    adata_sim = adata.copy()\n",
    "    # for large dataset\n",
    "    df = pd.DataFrame(adata_sim.X.toarray())\n",
    "\n",
    "    # for small dataset\n",
    "    #df = pd.DataFrame(adata_sim.X)\n",
    "    \n",
    "    # add pseudocounts \n",
    "    alpha = df.copy().to_numpy() + pc\n",
    "\n",
    "    # get vector of total counts per spot\n",
    "    n = df.sum(axis=1).to_numpy()\n",
    "\n",
    "    # Simulate total counts using negative binomial\n",
    "    mean = np.mean(n)\n",
    "    var = np.var(n)*factor\n",
    "    n = sample_nb(mean, var, len(n)).astype(int)\n",
    "\n",
    "    # Reassign zero counts so we don't divide by 0 in future calcuation\n",
    "    n[n == 0] = 1\n",
    "\n",
    "    # convert to float\n",
    "    alpha = np.array(alpha, dtype=np.float64)\n",
    "    n = np.array(n, dtype=np.float64)\n",
    "\n",
    "    # convert rows to unit vectors\n",
    "    alpha = alpha/alpha.sum(axis=1)[:, None]\n",
    "\n",
    "    dist = np.empty(df.shape)\n",
    "    for i in range(alpha.shape[0]):\n",
    "        dist[i] = np.random.multinomial(n[i], alpha[i])\n",
    "    new_df = pd.DataFrame(dist, index= df.index, columns= df.columns)\n",
    "    adata_sim.X = new_df\n",
    "    return adata_sim\n",
    "\n",
    "def sample_nb(m, v, n = 1):\n",
    "    \"\"\"\n",
    "    param: m - mean\n",
    "    param: v - variance\n",
    "    param: n - number of samples\n",
    "    return: random sample from negative binomial distribution\n",
    "    \"\"\"\n",
    "    r = m**2/(v - m)\n",
    "    p = m/v\n",
    "    samples = np.random.negative_binomial(r, p, n)\n",
    "    return samples"
   ]
  },
  {
   "cell_type": "markdown",
   "metadata": {},
   "source": [
    "Output simulated data"
   ]
  },
  {
   "cell_type": "code",
   "execution_count": 57,
   "metadata": {},
   "outputs": [],
   "source": [
    "\n",
    "def simulate_out(adata_layer, pseudocounts, slice_name, output):   \n",
    "    #adata_layer_sim_spatial, mappings = simulate_spatial(adata_layer, math.pi/17.5) #% 80%\n",
    "    #adata_layer_sim_spatial, mappings = simulate_spatial(adata_layer, math.pi/10.3) #60%\n",
    "    #adata_layer_sim_spatial, mappings = simulate_spatial(adata_layer, math.pi/6.8) #40%\n",
    "    adata_layer_sim_spatial, mappings = simulate_spatial(adata_layer, math.pi/4.7) #20%\n",
    "    #adata_layer_sim_spatial, mappings = simulate_spatial(adata_layer, math.pi/17.5) #% 80%\n",
    "\n",
    "    decimal_format = '{:.6f}' \n",
    " \n",
    "    mm = round(adata_layer_sim_spatial.shape[0]/adata_layer.shape[0]*100)\n",
    "    print(f\"We keep {mm}% of the original spots\")\n",
    "    np.save(osp.join(output, slice_name+f'_overlap={mm}%'+'mappings'), mappings)\n",
    "    adata_layer.write_h5ad(\n",
    "        osp.join(output, slice_name+'original.h5'),\n",
    "    )\n",
    "\n",
    "\n",
    "    sns.scatterplot(x = adata_layer.obsm['spatial'][:,0],y = adata_layer.obsm['spatial'][:,1], label='DLPFC151673', linewidth=0,s=80, marker=\".\",alpha=0.2,color='blue')\n",
    "    sns.scatterplot(x = adata_layer_sim_spatial.obsm['spatial'][:,0],y = adata_layer_sim_spatial.obsm['spatial'][:,1], label=f'overlap={mm}%',linewidth=0,s=80, marker=\".\",alpha=0.2,color='red')\n",
    "    print(adata_layer[adata_layer.obs['original_clusters']=='1'])\n",
    "    plt.xticks([])\n",
    "    plt.yticks([])\n",
    "    legend=plt.legend(bbox_to_anchor=(1.005, 0.5), loc='center left', prop={'size': 8})\n",
    "    #plt.show() \n",
    "    figure_path = osp.join(output, slice_name+f'_overlap={mm}%'+'_fig.pdf')\n",
    "    plt.savefig(figure_path, bbox_inches='tight')\n",
    "    \n",
    "    # save the correspoinding spot index \n",
    "    rows = adata_layer.shape[0]\n",
    "    columns = adata_layer_sim_spatial.shape[0]\n",
    "    mappings_list = [[0] * columns for _ in range(rows)]\n",
    "    for i in range(len(mappings)):\n",
    "        mappings_list[mappings[i]][i] = 1\n",
    "\n",
    "    pd.DataFrame(mappings_list).to_csv(output + '/'+f'_overlap={mm}%'+'mapping_matrix_ground_truth.csv')\n",
    "    \n",
    "    # row_sums = [sum(row) for row in mappings_list]\n",
    "    # print(\"Sum of each row:\", row_sums)\n",
    "    # print(max(row_sums))\n",
    "    # print(min(row_sums))\n",
    "\n",
    "    # because we are varying pseudocounts, want to resimulate gene expression\n",
    "    for p in pseudocounts:\n",
    "        if p == 0:\n",
    "            adata_layer_sim_spatial.write_h5ad(\n",
    "                osp.join(output, slice_name+f'_overlap={mm}%'+f'_pseudocount_0.h5'),\n",
    "            )\n",
    "\n",
    "        else:\n",
    "            adata_layer_sim_both = adata_layer_sim_spatial.copy()\n",
    "            adata_layer_sim_both = simulate_gene_exp(adata_layer_sim_both, pc = p)\n",
    "            adata_layer_sim_both.write_h5ad(\n",
    "                osp.join(output, slice_name+f'_overlap={mm}%'+f'_pseudocount_{p}.h5'),\n",
    "            )\n",
    "    return p, mm, adata_layer_sim_both\n"
   ]
  },
  {
   "attachments": {},
   "cell_type": "markdown",
   "metadata": {},
   "source": [
    "# Run Experiment"
   ]
  },
  {
   "attachments": {},
   "cell_type": "markdown",
   "metadata": {},
   "source": [
    "## Read in Data"
   ]
  },
  {
   "cell_type": "code",
   "execution_count": 58,
   "metadata": {},
   "outputs": [],
   "source": [
    "def load_DLPFC(root_dir, section_id):\n",
    "    # 151507, ..., 151676 \n",
    "    # 12 in total\n",
    "    ad = sc.read_visium(path=os.path.join(root_dir, section_id), count_file=section_id+'_filtered_feature_bc_matrix.h5')\n",
    "    ad.var_names_make_unique()\n",
    "\n",
    "    gt_dir = os.path.join(root_dir, section_id, 'gt')\n",
    "    gt_df = pd.read_csv(os.path.join(gt_dir, 'tissue_positions_list_GTs.txt'), sep=',', header=None, index_col=0)\n",
    "    ad.obs['original_clusters'] = gt_df.loc[:, 6]\n",
    "    keep_bcs = ad.obs.dropna().index\n",
    "    ad = ad[keep_bcs].copy()\n",
    "    ad.obs['original_clusters'] = ad.obs['original_clusters'].astype(int).astype(str)\n",
    "    return ad"
   ]
  },
  {
   "cell_type": "code",
   "execution_count": 59,
   "metadata": {},
   "outputs": [
    {
     "name": "stderr",
     "output_type": "stream",
     "text": [
      "/home/xiem6/0Virtual_Environment/F_MaskGraphene/lib/python3.9/site-packages/anndata/_core/anndata.py:1840: UserWarning: Variable names are not unique. To make them unique, call `.var_names_make_unique`.\n",
      "  utils.warn_names_duplicates(\"var\")\n",
      "/home/xiem6/0Virtual_Environment/F_MaskGraphene/lib/python3.9/site-packages/anndata/_core/anndata.py:1113: FutureWarning: is_categorical_dtype is deprecated and will be removed in a future version. Use isinstance(dtype, CategoricalDtype) instead\n",
      "  if not is_categorical_dtype(df_full[k]):\n",
      "/home/xiem6/0Virtual_Environment/F_MaskGraphene/lib/python3.9/site-packages/anndata/_core/anndata.py:1840: UserWarning: Variable names are not unique. To make them unique, call `.var_names_make_unique`.\n",
      "  utils.warn_names_duplicates(\"var\")\n",
      "/home/xiem6/0Virtual_Environment/F_MaskGraphene/lib/python3.9/site-packages/anndata/_core/anndata.py:1113: FutureWarning: is_categorical_dtype is deprecated and will be removed in a future version. Use isinstance(dtype, CategoricalDtype) instead\n",
      "  if not is_categorical_dtype(df_full[k]):\n"
     ]
    }
   ],
   "source": [
    "DLPFC_layer_151673= load_DLPFC(root_dir='/home/xiem6/0Data/DLPFC12', section_id='151673')"
   ]
  },
  {
   "attachments": {},
   "cell_type": "markdown",
   "metadata": {},
   "source": [
    "## Results"
   ]
  },
  {
   "cell_type": "code",
   "execution_count": 60,
   "metadata": {},
   "outputs": [],
   "source": [
    "slices = {\n",
    "    \"DLPFC_151673\" : DLPFC_layer_151673\n",
    "}"
   ]
  },
  {
   "cell_type": "code",
   "execution_count": 61,
   "metadata": {},
   "outputs": [
    {
     "name": "stdout",
     "output_type": "stream",
     "text": [
      "[0.0, 0.5, 1.0, 1.5, 2.0, 2.5, 3.0]\n"
     ]
    }
   ],
   "source": [
    "# Number of runs per experiment\n",
    "N_RUNS = 1\n",
    "def my_range(start, num_elements, step):\n",
    "    return range(start, start+step*num_elements, step)\n",
    "\n",
    "pseudocounts = list(np.arange(0, 3.5, 0.5))\n",
    "#pseudocounts = list(np.arange(0, 2, 1))\n",
    "print(pseudocounts)"
   ]
  },
  {
   "cell_type": "markdown",
   "metadata": {},
   "source": [
    "Plot simulated data"
   ]
  },
  {
   "cell_type": "code",
   "execution_count": 62,
   "metadata": {},
   "outputs": [
    {
     "name": "stdout",
     "output_type": "stream",
     "text": [
      "The minimal internal space between any two adjacent points is 137.00\n",
      "The number of the original spots 3611.00\n",
      "The number of new spots 739.00\n",
      "We keep 20% of the original spots\n"
     ]
    },
    {
     "name": "stderr",
     "output_type": "stream",
     "text": [
      "/home/xiem6/0Virtual_Environment/F_MaskGraphene/lib/python3.9/site-packages/anndata/_core/anndata.py:1113: FutureWarning: is_categorical_dtype is deprecated and will be removed in a future version. Use isinstance(dtype, CategoricalDtype) instead\n",
      "  if not is_categorical_dtype(df_full[k]):\n",
      "/home/xiem6/0Virtual_Environment/F_MaskGraphene/lib/python3.9/site-packages/seaborn/_oldcore.py:1498: FutureWarning: is_categorical_dtype is deprecated and will be removed in a future version. Use isinstance(dtype, CategoricalDtype) instead\n",
      "  if pd.api.types.is_categorical_dtype(vector):\n",
      "/home/xiem6/0Virtual_Environment/F_MaskGraphene/lib/python3.9/site-packages/seaborn/_oldcore.py:1498: FutureWarning: is_categorical_dtype is deprecated and will be removed in a future version. Use isinstance(dtype, CategoricalDtype) instead\n",
      "  if pd.api.types.is_categorical_dtype(vector):\n",
      "/home/xiem6/0Virtual_Environment/F_MaskGraphene/lib/python3.9/site-packages/seaborn/_oldcore.py:1498: FutureWarning: is_categorical_dtype is deprecated and will be removed in a future version. Use isinstance(dtype, CategoricalDtype) instead\n",
      "  if pd.api.types.is_categorical_dtype(vector):\n",
      "/home/xiem6/0Virtual_Environment/F_MaskGraphene/lib/python3.9/site-packages/seaborn/_oldcore.py:1498: FutureWarning: is_categorical_dtype is deprecated and will be removed in a future version. Use isinstance(dtype, CategoricalDtype) instead\n",
      "  if pd.api.types.is_categorical_dtype(vector):\n",
      "/home/xiem6/0Virtual_Environment/F_MaskGraphene/lib/python3.9/site-packages/anndata/_core/anndata.py:1113: FutureWarning: is_categorical_dtype is deprecated and will be removed in a future version. Use isinstance(dtype, CategoricalDtype) instead\n",
      "  if not is_categorical_dtype(df_full[k]):\n"
     ]
    },
    {
     "name": "stdout",
     "output_type": "stream",
     "text": [
      "View of AnnData object with n_obs × n_vars = 273 × 33538\n",
      "    obs: 'in_tissue', 'array_row', 'array_col', 'original_clusters'\n",
      "    var: 'gene_ids', 'feature_types', 'genome'\n",
      "    uns: 'spatial'\n",
      "    obsm: 'spatial'\n"
     ]
    },
    {
     "name": "stderr",
     "output_type": "stream",
     "text": [
      "/home/xiem6/0Virtual_Environment/F_MaskGraphene/lib/python3.9/site-packages/anndata/_core/anndata.py:1230: ImplicitModificationWarning: Trying to modify attribute `.obs` of view, initializing view as actual.\n",
      "  df[key] = c\n",
      "/home/xiem6/0Virtual_Environment/F_MaskGraphene/lib/python3.9/site-packages/anndata/_core/anndata.py:1230: ImplicitModificationWarning: Trying to modify attribute `.var` of view, initializing view as actual.\n",
      "  df[key] = c\n",
      "/home/xiem6/0Virtual_Environment/F_MaskGraphene/lib/python3.9/site-packages/anndata/_core/anndata.py:1230: ImplicitModificationWarning: Trying to modify attribute `.var` of view, initializing view as actual.\n",
      "  df[key] = c\n"
     ]
    },
    {
     "data": {
      "image/png": "[encoded data removed]",
      "text/plain": [
       "<Figure size 640x480 with 1 Axes>"
      ]
     },
     "metadata": {},
     "output_type": "display_data"
    }
   ],
   "source": [
    "outPut='/home/xiem6/0Projects/Benchmark_STdata/tutorials/'\n",
    "for slice_name, adata in slices.items():\n",
    "    p, mm, adata_layer_sim_both_final  = simulate_out(adata, pseudocounts, slice_name, output = outPut)"
   ]
  },
  {
   "cell_type": "code",
   "execution_count": 63,
   "metadata": {},
   "outputs": [
    {
     "data": {
      "text/plain": [
       "<Figure size 640x480 with 0 Axes>"
      ]
     },
     "metadata": {},
     "output_type": "display_data"
    }
   ],
   "source": [
    "plt.savefig('spatial.png')"
   ]
  }
 ],
 "metadata": {
  "kernelspec": {
   "display_name": "paste",
   "language": "python",
   "name": "python3"
  },
  "language_info": {
   "codemirror_mode": {
    "name": "ipython",
    "version": 3
   },
   "file_extension": ".py",
   "mimetype": "text/x-python",
   "name": "python",
   "nbconvert_exporter": "python",
   "pygments_lexer": "ipython3",
   "version": "3.9.18"
  },
  "toc": {
   "base_numbering": 1,
   "nav_menu": {},
   "number_sections": true,
   "sideBar": true,
   "skip_h1_title": false,
   "title_cell": "Table of Contents",
   "title_sidebar": "Contents",
   "toc_cell": false,
   "toc_position": {
    "height": "calc(100% - 180px)",
    "left": "10px",
    "top": "150px",
    "width": "305.455px"
   },
   "toc_section_display": true,
   "toc_window_display": true
  },
  "vscode": {
   "interpreter": {
    "hash": "9975920469b1dcc399534ceceee9ac02828bbd93adaf85e2a10909dccb5e08e8"
   }
  }
 },
 "nbformat": 4,
 "nbformat_minor": 4
}
